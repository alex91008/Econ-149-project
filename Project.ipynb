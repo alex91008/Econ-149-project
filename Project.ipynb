{
 "cells": [
  {
   "cell_type": "markdown",
   "metadata": {},
   "source": [
    "                                                   Final Project\n",
    "                                                   \n",
    "The purpose of this project is..."
   ]
  },
  {
   "cell_type": "markdown",
   "metadata": {},
   "source": [
    "To establish a relationship between 2 variables [unemployment and GDP or income (we will have to choose which one] to create a regression.  "
   ]
  },
  {
   "cell_type": "markdown",
   "metadata": {
    "scrolled": true
   },
   "source": [
    "potential links: "
   ]
  },
  {
   "cell_type": "code",
   "execution_count": null,
   "metadata": {},
   "outputs": [],
   "source": [
    "##https://fred.stlouisfed.org/series/UNRATE\n",
    "  ##https://fred.stlouisfed.org/series/CPIAUCSL\n",
    "    Real estate     https://fred.stlouisfed.org/series/BOGZ1FL075035503Q\n",
    "    GDP   https://fred.stlouisfed.org/series/GDP\n",
    "        "
   ]
  },
  {
   "cell_type": "markdown",
   "metadata": {},
   "source": [
    "Go to to fred website and take a look at the marco variable choose 3 to runa regression. Come up with a story to see why you would want to do the regression.  what is the trade off? what is the goal for the project? \n",
    "\n",
    "Project overview:\n",
    "goal - 1. How real estate price reflects GDP or 2. How GDP affects housing prices and interest rates \n",
    "what expect- the higher the real estate price rate -> higher gdp\n",
    ". \n",
    "\n",
    "\n",
    "11/13:\n",
    "To do: \n",
    "access data\n",
    "summary stats \n",
    "visual of data \n"
   ]
  },
  {
   "cell_type": "raw",
   "metadata": {},
   "source": [
    "Project Structure:\n",
    "\n",
    "Data Report:\n",
    "\n",
    "Key Variables:"
   ]
  },
  {
   "cell_type": "code",
   "execution_count": 1,
   "metadata": {},
   "outputs": [],
   "source": [
    "#Key Imports\n",
    "import numpy as np\n",
    "import matplotlib.pyplot as plt\n",
    "%matplotlib inline\n",
    "import pandas as pd\n",
    "import statsmodels.api as sm\n",
    "from statsmodels.iolib.summary2 import summary_col"
   ]
  },
  {
   "cell_type": "code",
   "execution_count": null,
   "metadata": {},
   "outputs": [],
   "source": []
  }
 ],
 "metadata": {
  "kernelspec": {
   "display_name": "Python 3",
   "language": "python",
   "name": "python3"
  },
  "language_info": {
   "codemirror_mode": {
    "name": "ipython",
    "version": 3
   },
   "file_extension": ".py",
   "mimetype": "text/x-python",
   "name": "python",
   "nbconvert_exporter": "python",
   "pygments_lexer": "ipython3",
   "version": "3.8.3"
  }
 },
 "nbformat": 4,
 "nbformat_minor": 4
}
